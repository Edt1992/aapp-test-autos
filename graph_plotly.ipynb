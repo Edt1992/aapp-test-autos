{
 "cells": [
  {
   "cell_type": "code",
   "execution_count": null,
   "metadata": {},
   "outputs": [],
   "source": [
    "pip install plotly"
   ]
  },
  {
   "cell_type": "code",
   "execution_count": null,
   "metadata": {},
   "outputs": [],
   "source": [
    "import plotly.graph_objects as go\n",
    "\n",
    "# Datos de ejemplo\n",
    "x = [1, 2, 3, 4, 5]\n",
    "y = [10, 20, 15, 30, 25]\n",
    "\n",
    "# Crear la figura\n",
    "fig = go.Figure(data=go.Scatter(x=x, y=y, mode='lines+markers'))\n",
    "\n",
    "# Agregar título y etiquetas\n",
    "fig.update_layout(\n",
    "    title=\"Gráfico de líneas interactivo\",\n",
    "    xaxis_title=\"Eje X\",\n",
    "    yaxis_title=\"Eje Y\"\n",
    ")\n",
    "\n",
    "# Mostrar el gráfico\n",
    "fig.show()\n"
   ]
  },
  {
   "cell_type": "code",
   "execution_count": null,
   "metadata": {},
   "outputs": [],
   "source": [
    "from plotly.subplots import make_subplots\n",
    "import plotly.graph_objects as go\n",
    "\n",
    "# Crear subplots\n",
    "fig = make_subplots(rows=1, cols=2)\n",
    "\n",
    "# Añadir gráfico de líneas\n",
    "fig.add_trace(go.Scatter(x=x, y=y, mode='lines', name='Líneas'), row=1, col=1)\n",
    "\n",
    "# Añadir gráfico de barras\n",
    "fig.add_trace(go.Bar(x=['A', 'B', 'C'], y=[5, 10, 15], name='Barras'), row=1, col=2)\n",
    "\n",
    "# Mostrar el gráfico\n",
    "fig.update_layout(title=\"Gráficos combinados\")\n",
    "fig.show()\n"
   ]
  }
 ],
 "metadata": {
  "kernelspec": {
   "display_name": "Python 3",
   "language": "python",
   "name": "python3"
  },
  "language_info": {
   "codemirror_mode": {
    "name": "ipython",
    "version": 3
   },
   "file_extension": ".py",
   "mimetype": "text/x-python",
   "name": "python",
   "nbconvert_exporter": "python",
   "pygments_lexer": "ipython3",
   "version": "3.12.0"
  }
 },
 "nbformat": 4,
 "nbformat_minor": 2
}
